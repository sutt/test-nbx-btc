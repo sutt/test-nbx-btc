{
 "cells": [
  {
   "cell_type": "code",
   "execution_count": 1,
   "metadata": {},
   "outputs": [],
   "source": [
    "############## PLEASE RUN THIS CELL FIRST! ###################\n",
    "\n",
    "# import everything and define a test runner function\n",
    "%load_ext autoreload\n",
    "%autoreload 2"
   ]
  },
  {
   "cell_type": "code",
   "execution_count": 2,
   "metadata": {},
   "outputs": [],
   "source": [
    "# from importlib import reload\n",
    "from helper import run\n",
    "import op\n",
    "import script"
   ]
  },
  {
   "cell_type": "code",
   "execution_count": 3,
   "metadata": {},
   "outputs": [],
   "source": [
    "from nbx import nbx"
   ]
  },
  {
   "cell_type": "markdown",
   "metadata": {},
   "source": [
    "### Exercise 1\n",
    "\n",
    "Write the `op_hash160` function.\n",
    "\n",
    "#### Make [this test](/edit/code-ch06/op.py) pass: `op.py:OpTest:test_op_hash160`"
   ]
  },
  {
   "cell_type": "code",
   "execution_count": 3,
   "metadata": {},
   "outputs": [
    {
     "name": "stderr",
     "output_type": "stream",
     "text": [
      ".\n",
      "----------------------------------------------------------------------\n",
      "Ran 1 test in 0.004s\n",
      "\n",
      "OK\n"
     ]
    }
   ],
   "source": [
    "# Exercise 1\n",
    "\n",
    "# reload(op)\n",
    "run(op.OpTest(\"test_op_hash160\"))"
   ]
  },
  {
   "cell_type": "code",
   "execution_count": 4,
   "metadata": {},
   "outputs": [],
   "source": [
    "from script import Script"
   ]
  },
  {
   "cell_type": "code",
   "execution_count": 5,
   "metadata": {},
   "outputs": [
    {
     "name": "stdout",
     "output_type": "stream",
     "text": [
      "True\n"
     ]
    }
   ],
   "source": [
    "z = 0x7c076ff316692a3d7eb3c3bb0f8b1488cf72e1afcd929e29307032997a838a3d\n",
    "sec = bytes.fromhex('04887387e452b8eacc4acfde10d9aaf7f6d9a0f975aabb10d006e4da568744d06c61de6d95231cd89026e286df3b6ae4a894a3378e393e93a0f45b666329a0ae34')\n",
    "sig = bytes.fromhex('3045022000eff69ef2b1bd93a66ed5219add4fb51e11a840f404876325a1e8ffe0529a2c022100c7207fee197d27c618aea621406f6bf5ef6fca38681d82b2f06fddbdce6feab601')\n",
    "script_pubkey = Script([sec, 0xac])\n",
    "script_sig = Script([sig])\n",
    "combined_script = script_sig + script_pubkey\n",
    "print(combined_script.evaluate(z))"
   ]
  },
  {
   "cell_type": "markdown",
   "metadata": {},
   "source": [
    "### Exercise 2\n",
    "\n",
    "Write the `op_checksig` function in `op.py`\n",
    "\n",
    "#### Make [this test](/edit/code-ch06/op.py) pass: `op.py:OpTest:test_op_checksig`"
   ]
  },
  {
   "cell_type": "code",
   "execution_count": 6,
   "metadata": {},
   "outputs": [
    {
     "name": "stderr",
     "output_type": "stream",
     "text": [
      ".\n",
      "----------------------------------------------------------------------\n",
      "Ran 1 test in 0.194s\n",
      "\n",
      "OK\n"
     ]
    }
   ],
   "source": [
    "# Exercise 2\n",
    "\n",
    "# reload(op)\n",
    "run(op.OpTest(\"test_op_checksig\"))"
   ]
  },
  {
   "cell_type": "markdown",
   "metadata": {},
   "source": [
    "### Exercise 3\n",
    "\n",
    "Create a ScriptSig that can unlock this ScriptPubKey. Note `OP_MUL` multiplies the top two elements of the stack.\n",
    "\n",
    "`767695935687`\n",
    "\n",
    "* `56 = OP_6`\n",
    "* `76 = OP_DUP`\n",
    "* `87 = OP_EQUAL`\n",
    "* `93 = OP_ADD`\n",
    "* `95 = OP_MUL`"
   ]
  },
  {
   "cell_type": "code",
   "execution_count": 8,
   "metadata": {},
   "outputs": [],
   "source": [
    "# exploration /scratch work for Exercise 3\n",
    "\n",
    "from script import Script"
   ]
  },
  {
   "cell_type": "code",
   "execution_count": 41,
   "metadata": {},
   "outputs": [],
   "source": [
    "script_pubkey = Script([0x76, 0x76, 0x95, 0x93, 0x56, 0x87])"
   ]
  },
  {
   "cell_type": "code",
   "execution_count": 42,
   "metadata": {},
   "outputs": [
    {
     "data": {
      "text/plain": [
       "OP_DUP OP_DUP OP_MUL OP_ADD OP_6 OP_EQUAL"
      ]
     },
     "execution_count": 42,
     "metadata": {},
     "output_type": "execute_result"
    }
   ],
   "source": [
    "script_pubkey"
   ]
  },
  {
   "cell_type": "code",
   "execution_count": null,
   "metadata": {},
   "outputs": [],
   "source": [
    "stack = []\n",
    "x = 1\n",
    "stack.append(x)          # op_x\n",
    "stack.append(stack[-1])  # op_dup\n",
    "stack.append(stack[-1])  # op_dup\n",
    "mul1 = stack.pop() \n",
    "mul2 = stack.pop()\n",
    "stack.append(mul1 * mul2)\n",
    "\n",
    "assert stack[0] == 6\n",
    "\n"
   ]
  },
  {
   "cell_type": "markdown",
   "metadata": {},
   "source": [
    "(x*x)+x = 6\n",
    "\n",
    "x^2 + x - 6 = 0\n",
    "\n",
    "-b +/- sqrt(b^2 - 4ac) / 2a"
   ]
  },
  {
   "cell_type": "code",
   "execution_count": 47,
   "metadata": {},
   "outputs": [
    {
     "data": {
      "text/plain": [
       "(-3.0, 2.0)"
      ]
     },
     "execution_count": 47,
     "metadata": {},
     "output_type": "execute_result"
    }
   ],
   "source": [
    "a = 1\n",
    "b = 1\n",
    "c = -6\n",
    "\n",
    "x1 = (-b - ((b**2 - 4*a*c)**0.5)) / (2*a)\n",
    "x2 = (-b + ((b**2 - 4*a*c)**0.5)) / (2*a)\n",
    "x1, x2"
   ]
  },
  {
   "cell_type": "code",
   "execution_count": 91,
   "metadata": {},
   "outputs": [],
   "source": [
    "from op import encode_num"
   ]
  },
  {
   "cell_type": "code",
   "execution_count": 93,
   "metadata": {},
   "outputs": [
    {
     "data": {
      "text/plain": [
       "82"
      ]
     },
     "execution_count": 93,
     "metadata": {},
     "output_type": "execute_result"
    }
   ],
   "source": [
    "0x52"
   ]
  },
  {
   "cell_type": "code",
   "execution_count": null,
   "metadata": {},
   "outputs": [],
   "source": [
    "encode_num()"
   ]
  },
  {
   "cell_type": "code",
   "execution_count": 40,
   "metadata": {},
   "outputs": [
    {
     "name": "stdout",
     "output_type": "stream",
     "text": [
      "hey\n"
     ]
    },
    {
     "data": {
      "text/plain": [
       "False"
      ]
     },
     "execution_count": 40,
     "metadata": {},
     "output_type": "execute_result"
    }
   ],
   "source": [
    "script_pubkey.evaluate(0)"
   ]
  },
  {
   "cell_type": "code",
   "execution_count": 17,
   "metadata": {},
   "outputs": [],
   "source": [
    "from logging import getLogger"
   ]
  },
  {
   "cell_type": "code",
   "execution_count": 19,
   "metadata": {},
   "outputs": [],
   "source": [
    "log = getLogger(\"script\")"
   ]
  },
  {
   "cell_type": "code",
   "execution_count": 21,
   "metadata": {},
   "outputs": [
    {
     "data": {
      "text/plain": [
       "<Logger blah blah (WARNING)>"
      ]
     },
     "execution_count": 21,
     "metadata": {},
     "output_type": "execute_result"
    }
   ],
   "source": [
    "getLogger(\"blah blah\")"
   ]
  },
  {
   "cell_type": "code",
   "execution_count": 20,
   "metadata": {},
   "outputs": [
    {
     "data": {
      "text/plain": [
       "<bound method Logger.info of <Logger script (WARNING)>>"
      ]
     },
     "execution_count": 20,
     "metadata": {},
     "output_type": "execute_result"
    }
   ],
   "source": [
    "log.info"
   ]
  },
  {
   "cell_type": "markdown",
   "metadata": {},
   "source": [
    "### Exercise 3\n",
    "\n",
    "Create a ScriptSig that can unlock this ScriptPubKey. Note `OP_MUL` multiplies the top two elements of the stack.\n",
    "\n",
    "`767695935687`\n",
    "\n",
    "* `56 = OP_6`\n",
    "* `76 = OP_DUP`\n",
    "* `87 = OP_EQUAL`\n",
    "* `93 = OP_ADD`\n",
    "* `95 = OP_MUL`"
   ]
  },
  {
   "cell_type": "markdown",
   "metadata": {},
   "source": [
    "##### The problem"
   ]
  },
  {
   "cell_type": "code",
   "execution_count": 51,
   "metadata": {},
   "outputs": [
    {
     "name": "stdout",
     "output_type": "stream",
     "text": [
      "True\n"
     ]
    }
   ],
   "source": [
    "script_pubkey = Script([0x76, 0x76, 0x95, 0x93, 0x56, 0x87])\n",
    "script_sig = Script([82])  # FILL THIS IN\n",
    "combined_script = script_sig + script_pubkey\n",
    "print(combined_script.evaluate(0))"
   ]
  },
  {
   "cell_type": "code",
   "execution_count": 57,
   "metadata": {},
   "outputs": [
    {
     "data": {
      "text/plain": [
       "b'\\x06vv\\x95\\x93V\\x87'"
      ]
     },
     "execution_count": 57,
     "metadata": {},
     "output_type": "execute_result"
    }
   ],
   "source": [
    "ser = script_pubkey.serialize()\n",
    "ser"
   ]
  },
  {
   "cell_type": "code",
   "execution_count": 58,
   "metadata": {},
   "outputs": [
    {
     "data": {
      "text/plain": [
       "b'vv\\x95\\x93V\\x87'"
      ]
     },
     "execution_count": 58,
     "metadata": {},
     "output_type": "execute_result"
    }
   ],
   "source": [
    "raw_ser = script_pubkey.raw_serialize()\n",
    "raw_ser"
   ]
  },
  {
   "cell_type": "code",
   "execution_count": 61,
   "metadata": {},
   "outputs": [
    {
     "data": {
      "text/plain": [
       "'767695935687'"
      ]
     },
     "execution_count": 61,
     "metadata": {},
     "output_type": "execute_result"
    }
   ],
   "source": [
    "bytes.hex(raw_ser)  # bingo"
   ]
  },
  {
   "cell_type": "code",
   "execution_count": 59,
   "metadata": {},
   "outputs": [
    {
     "data": {
      "text/plain": [
       "'06767695935687'"
      ]
     },
     "execution_count": 59,
     "metadata": {},
     "output_type": "execute_result"
    }
   ],
   "source": [
    "bytes.hex(ser)"
   ]
  },
  {
   "cell_type": "markdown",
   "metadata": {},
   "source": [
    "### Exercise 4\n",
    "\n",
    "Figure out what this Script is doing:\n",
    "\n",
    "`6e879169a77ca787`\n",
    "\n",
    "* `69 = OP_VERIFY`\n",
    "* `6e = OP_2DUP`\n",
    "* `7c = OP_SWAP`\n",
    "* `87 = OP_EQUAL`\n",
    "* `91 = OP_NOT`\n",
    "* `a7 = OP_SHA1`\n",
    "\n",
    "Use the `Script.parse` method and look up what various opcodes do at https://en.bitcoin.it/wiki/Script"
   ]
  },
  {
   "cell_type": "code",
   "execution_count": 76,
   "metadata": {},
   "outputs": [
    {
     "name": "stdout",
     "output_type": "stream",
     "text": [
      "False\n"
     ]
    }
   ],
   "source": [
    "# Exercise 4\n",
    "\n",
    "from script import Script\n",
    "\n",
    "script_pubkey = Script([0x6e, 0x87, 0x91, 0x69, 0xa7, 0x7c, 0xa7, 0x87])\n",
    "script_sig = Script([81, 82])  # FILL THIS IN\n",
    "combined_script = script_sig + script_pubkey\n",
    "print(combined_script.evaluate(0))"
   ]
  },
  {
   "cell_type": "code",
   "execution_count": 80,
   "metadata": {},
   "outputs": [
    {
     "name": "stdout",
     "output_type": "stream",
     "text": [
      "OP_2DUP\n",
      "OP_EQUAL\n",
      "OP_NOT\n",
      "OP_VERIFY\n",
      "OP_SHA1\n",
      "OP_SWAP\n",
      "OP_SHA1\n",
      "OP_EQUAL\n"
     ]
    }
   ],
   "source": [
    "print(\"\\n\".join(str(script_pubkey).split(\" \")))"
   ]
  },
  {
   "cell_type": "markdown",
   "metadata": {},
   "source": [
    "#### Describing the script\n",
    "So this is basically a pinata for a sha1 collision. It will only return True if two different inputs have the same SHA1."
   ]
  },
  {
   "cell_type": "markdown",
   "metadata": {},
   "source": [
    " - first it copies the top two elements on the stack\n",
    " - then it checks if those two elements are equal, if they are then script terminates in error code via `OP_VERIFY`\n",
    " - then it SHA1's each input. This will need remove the original input numbers from the stack and put the hash onto it.\n",
    " - One minor detail is using `OP_SWAP` to access the first input by putting it onto the top of the stack."
   ]
  },
  {
   "cell_type": "markdown",
   "metadata": {},
   "source": [
    "#### Understand the impact of changing op-byte-codes as it impacts the hex representation of the `raw_serialized` transaction."
   ]
  },
  {
   "cell_type": "code",
   "execution_count": 65,
   "metadata": {},
   "outputs": [
    {
     "data": {
      "text/plain": [
       "'6e879169a77ca787'"
      ]
     },
     "execution_count": 65,
     "metadata": {},
     "output_type": "execute_result"
    }
   ],
   "source": [
    "bytes.hex(script_pubkey.raw_serialize())"
   ]
  },
  {
   "cell_type": "code",
   "execution_count": 83,
   "metadata": {},
   "outputs": [
    {
     "data": {
      "text/plain": [
       "'6e879169a77ca787'"
      ]
     },
     "execution_count": 83,
     "metadata": {},
     "output_type": "execute_result"
    }
   ],
   "source": [
    "first_script = Script([])  \n",
    "combined_script = first_script + script_pubkey\n",
    "bytes.hex(combined_script.raw_serialize())"
   ]
  },
  {
   "cell_type": "code",
   "execution_count": 84,
   "metadata": {},
   "outputs": [
    {
     "data": {
      "text/plain": [
       "'516e879169a77ca787'"
      ]
     },
     "execution_count": 84,
     "metadata": {},
     "output_type": "execute_result"
    }
   ],
   "source": [
    "first_script = Script([81])  \n",
    "combined_script = first_script + script_pubkey\n",
    "bytes.hex(combined_script.raw_serialize())"
   ]
  },
  {
   "cell_type": "code",
   "execution_count": 85,
   "metadata": {},
   "outputs": [
    {
     "data": {
      "text/plain": [
       "'51526e879169a77ca787'"
      ]
     },
     "execution_count": 85,
     "metadata": {},
     "output_type": "execute_result"
    }
   ],
   "source": [
    "first_script = Script([81, 82])  \n",
    "combined_script = first_script + script_pubkey\n",
    "bytes.hex(combined_script.raw_serialize())"
   ]
  },
  {
   "cell_type": "markdown",
   "metadata": {},
   "source": [
    "##### Show how they don't always match"
   ]
  },
  {
   "cell_type": "code",
   "execution_count": 86,
   "metadata": {},
   "outputs": [],
   "source": [
    "first_script = Script([])  \n",
    "combined_script = first_script + script_pubkey\n",
    "blank_hex = bytes.hex(combined_script.raw_serialize())\n",
    "\n",
    "first_script = Script([81])  \n",
    "combined_script = first_script + script_pubkey\n",
    "op1_hex = bytes.hex(combined_script.raw_serialize())\n",
    "\n",
    "first_script = Script([81, 82])  \n",
    "combined_script = first_script + script_pubkey\n",
    "op1op2_hex = bytes.hex(combined_script.raw_serialize())"
   ]
  },
  {
   "cell_type": "code",
   "execution_count": 88,
   "metadata": {},
   "outputs": [
    {
     "data": {
      "text/plain": [
       "True"
      ]
     },
     "execution_count": 88,
     "metadata": {},
     "output_type": "execute_result"
    }
   ],
   "source": [
    "blank_hex in op1_hex"
   ]
  },
  {
   "cell_type": "code",
   "execution_count": 89,
   "metadata": {},
   "outputs": [
    {
     "data": {
      "text/plain": [
       "True"
      ]
     },
     "execution_count": 89,
     "metadata": {},
     "output_type": "execute_result"
    }
   ],
   "source": [
    "blank_hex in op1op2_hex"
   ]
  },
  {
   "cell_type": "code",
   "execution_count": 90,
   "metadata": {},
   "outputs": [
    {
     "data": {
      "text/plain": [
       "False"
      ]
     },
     "execution_count": 90,
     "metadata": {},
     "output_type": "execute_result"
    }
   ],
   "source": [
    "op1_hex in op1op2_hex"
   ]
  },
  {
   "cell_type": "markdown",
   "metadata": {},
   "source": [
    "#### Collisions"
   ]
  },
  {
   "cell_type": "code",
   "execution_count": 95,
   "metadata": {},
   "outputs": [],
   "source": [
    "s1 = '255044462d312e330a25e2e3cfd30a0a0a312030206f626a0a3c3c2f576964746820\\\n",
    "32203020522f4865696768742033203020522f547970652034203020522f537562747970652035\\\n",
    "203020522f46696c7465722036203020522f436f6c6f7253706163652037203020522f4c656e67\\\n",
    "74682038203020522f42697473506572436f6d706f6e656e7420383e3e0a73747265616d0affd8\\\n",
    "fffe00245348412d3120697320646561642121212121852fec092339759c39b1a1c63c4c97e1ff\\\n",
    "fe017f46dc93a6b67e013b029aaa1db2560b45ca67d688c7f84b8c4c791fe02b3df614f86db169\\\n",
    "0901c56b45c1530afedfb76038e972722fe7ad728f0e4904e046c230570fe9d41398abe12ef5bc\\\n",
    "942be33542a4802d98b5d70f2a332ec37fac3514e74ddc0f2cc1a874cd0c78305a215664613097\\\n",
    "89606bd0bf3f98cda8044629a1'"
   ]
  },
  {
   "cell_type": "code",
   "execution_count": 96,
   "metadata": {},
   "outputs": [],
   "source": [
    "s2 = '255044462d312e330a25e2e3cfd30a0a0a312030206f626a0a3c3c2f576964746820\\\n",
    "32203020522f4865696768742033203020522f547970652034203020522f537562747970652035\\\n",
    "203020522f46696c7465722036203020522f436f6c6f7253706163652037203020522f4c656e67\\\n",
    "74682038203020522f42697473506572436f6d706f6e656e7420383e3e0a73747265616d0affd8\\\n",
    "fffe00245348412d3120697320646561642121212121852fec092339759c39b1a1c63c4c97e1ff\\\n",
    "fe017346dc9166b67e118f029ab621b2560ff9ca67cca8c7f85ba84c79030c2b3de218f86db3a9\\\n",
    "0901d5df45c14f26fedfb3dc38e96ac22fe7bd728f0e45bce046d23c570feb141398bb552ef5a0\\\n",
    "a82be331fea48037b8b5d71f0e332edf93ac3500eb4ddc0decc1a864790c782c76215660dd3097\\\n",
    "91d06bd0af3f98cda4bc4629b1'"
   ]
  },
  {
   "cell_type": "code",
   "execution_count": 97,
   "metadata": {},
   "outputs": [
    {
     "data": {
      "text/plain": [
       "False"
      ]
     },
     "execution_count": 97,
     "metadata": {},
     "output_type": "execute_result"
    }
   ],
   "source": [
    "s1 == s2"
   ]
  },
  {
   "cell_type": "code",
   "execution_count": 98,
   "metadata": {},
   "outputs": [
    {
     "name": "stdout",
     "output_type": "stream",
     "text": [
      "index: 385 | s1: f | s2: 3\n",
      "index: 391 | s1: 3 | s2: 1\n",
      "index: 392 | s1: a | s2: 6\n",
      "index: 398 | s1: 0 | s2: 1\n",
      "index: 400 | s1: 3 | s2: 8\n",
      "index: 401 | s1: b | s2: f\n",
      "index: 406 | s1: a | s2: b\n",
      "index: 407 | s1: a | s2: 6\n",
      "index: 408 | s1: 1 | s2: 2\n",
      "index: 409 | s1: d | s2: 1\n",
      "index: 415 | s1: b | s2: f\n",
      "index: 416 | s1: 4 | s2: f\n",
      "index: 417 | s1: 5 | s2: 9\n",
      "index: 422 | s1: d | s2: c\n",
      "index: 423 | s1: 6 | s2: c\n",
      "index: 424 | s1: 8 | s2: a\n",
      "index: 430 | s1: 4 | s2: 5\n",
      "index: 432 | s1: 8 | s2: a\n",
      "index: 433 | s1: c | s2: 8\n",
      "index: 438 | s1: 1 | s2: 0\n",
      "index: 439 | s1: f | s2: 3\n",
      "index: 440 | s1: e | s2: 0\n",
      "index: 441 | s1: 0 | s2: c\n",
      "index: 446 | s1: f | s2: e\n",
      "index: 447 | s1: 6 | s2: 2\n",
      "index: 449 | s1: 4 | s2: 8\n",
      "index: 455 | s1: 1 | s2: 3\n",
      "index: 456 | s1: 6 | s2: a\n",
      "index: 462 | s1: c | s2: d\n",
      "index: 464 | s1: 6 | s2: d\n",
      "index: 465 | s1: b | s2: f\n",
      "index: 470 | s1: 5 | s2: 4\n",
      "index: 471 | s1: 3 | s2: f\n",
      "index: 472 | s1: 0 | s2: 2\n",
      "index: 473 | s1: a | s2: 6\n",
      "index: 479 | s1: 7 | s2: 3\n",
      "index: 480 | s1: 6 | s2: d\n",
      "index: 481 | s1: 0 | s2: c\n",
      "index: 486 | s1: 7 | s2: 6\n",
      "index: 487 | s1: 2 | s2: a\n",
      "index: 488 | s1: 7 | s2: c\n",
      "index: 494 | s1: a | s2: b\n",
      "index: 503 | s1: 9 | s2: 5\n",
      "index: 504 | s1: 0 | s2: b\n",
      "index: 505 | s1: 4 | s2: c\n",
      "index: 510 | s1: c | s2: d\n",
      "index: 513 | s1: 0 | s2: c\n",
      "index: 519 | s1: 9 | s2: b\n",
      "index: 520 | s1: d | s2: 1\n",
      "index: 526 | s1: a | s2: b\n",
      "index: 528 | s1: e | s2: 5\n",
      "index: 529 | s1: 1 | s2: 5\n",
      "index: 534 | s1: b | s2: a\n",
      "index: 535 | s1: c | s2: 0\n",
      "index: 536 | s1: 9 | s2: a\n",
      "index: 537 | s1: 4 | s2: 8\n",
      "index: 543 | s1: 5 | s2: 1\n",
      "index: 544 | s1: 4 | s2: f\n",
      "index: 545 | s1: 2 | s2: e\n",
      "index: 550 | s1: 2 | s2: 3\n",
      "index: 551 | s1: d | s2: 7\n",
      "index: 552 | s1: 9 | s2: b\n",
      "index: 558 | s1: 0 | s2: 1\n",
      "index: 560 | s1: 2 | s2: 0\n",
      "index: 561 | s1: a | s2: e\n",
      "index: 566 | s1: c | s2: d\n",
      "index: 567 | s1: 3 | s2: f\n",
      "index: 568 | s1: 7 | s2: 9\n",
      "index: 569 | s1: f | s2: 3\n",
      "index: 574 | s1: 1 | s2: 0\n",
      "index: 575 | s1: 4 | s2: 0\n",
      "index: 577 | s1: 7 | s2: b\n",
      "index: 583 | s1: f | s2: d\n",
      "index: 584 | s1: 2 | s2: e\n",
      "index: 590 | s1: 7 | s2: 6\n",
      "index: 592 | s1: c | s2: 7\n",
      "index: 593 | s1: d | s2: 9\n",
      "index: 598 | s1: 3 | s2: 2\n",
      "index: 599 | s1: 0 | s2: c\n",
      "index: 600 | s1: 5 | s2: 7\n",
      "index: 601 | s1: a | s2: 6\n",
      "index: 607 | s1: 4 | s2: 0\n",
      "index: 608 | s1: 6 | s2: d\n",
      "index: 609 | s1: 1 | s2: d\n",
      "index: 614 | s1: 8 | s2: 9\n",
      "index: 615 | s1: 9 | s2: 1\n",
      "index: 616 | s1: 6 | s2: d\n",
      "index: 622 | s1: b | s2: a\n",
      "index: 631 | s1: 8 | s2: 4\n",
      "index: 632 | s1: 0 | s2: b\n",
      "index: 633 | s1: 4 | s2: c\n",
      "index: 638 | s1: a | s2: b\n"
     ]
    }
   ],
   "source": [
    "for i,e in enumerate(s1):\n",
    "    if s2[i] != e:\n",
    "        print(f\"index: {i} | s1: {e} | s2: {s2[i]}\")"
   ]
  },
  {
   "cell_type": "code",
   "execution_count": null,
   "metadata": {},
   "outputs": [],
   "source": []
  }
 ],
 "metadata": {
  "kernelspec": {
   "display_name": "Python 3",
   "language": "python",
   "name": "python3"
  },
  "language_info": {
   "codemirror_mode": {
    "name": "ipython",
    "version": 3
   },
   "file_extension": ".py",
   "mimetype": "text/x-python",
   "name": "python",
   "nbconvert_exporter": "python",
   "pygments_lexer": "ipython3",
   "version": "3.7.2"
  }
 },
 "nbformat": 4,
 "nbformat_minor": 2
}
